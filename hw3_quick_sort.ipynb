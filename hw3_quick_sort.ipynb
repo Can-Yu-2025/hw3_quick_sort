{
  "nbformat": 4,
  "nbformat_minor": 0,
  "metadata": {
    "colab": {
      "provenance": [],
      "authorship_tag": "ABX9TyP6+y1+sTL5PBpXjIRFD7XW"
    },
    "kernelspec": {
      "name": "python3",
      "display_name": "Python 3"
    },
    "language_info": {
      "name": "python"
    }
  },
  "cells": [
    {
      "cell_type": "code",
      "execution_count": 1,
      "metadata": {
        "colab": {
          "base_uri": "https://localhost:8080/"
        },
        "id": "jARmiIRAbYgQ",
        "outputId": "f2246a75-ff34-4a99-dd37-7b519e128a61"
      },
      "outputs": [
        {
          "output_type": "stream",
          "name": "stdout",
          "text": [
            "原始資料： [33, 67, 8, 13, 54, 119, 3, 84, 25, 41]\n",
            "排序中：[33, 67, 8, 13, 54, 119, 3, 84, 25, 41]（基準點：33）\n",
            "交換 25 和 67 → [33, 25, 8, 13, 54, 119, 3, 84, 67, 41]\n",
            "交換 3 和 54 → [33, 25, 8, 13, 3, 119, 54, 84, 67, 41]\n",
            "將基準點 33 放到正確位置 → [3, 25, 8, 13, 33, 119, 54, 84, 67, 41]\n",
            "  排序中：[3, 25, 8, 13]（基準點：3）\n",
            "  將基準點 3 放到正確位置 → [3, 25, 8, 13, 33, 119, 54, 84, 67, 41]\n",
            "    排序中：[25, 8, 13]（基準點：25）\n",
            "    將基準點 25 放到正確位置 → [3, 13, 8, 25, 33, 119, 54, 84, 67, 41]\n",
            "      排序中：[13, 8]（基準點：13）\n",
            "      將基準點 13 放到正確位置 → [3, 8, 13, 25, 33, 119, 54, 84, 67, 41]\n",
            "  排序中：[119, 54, 84, 67, 41]（基準點：119）\n",
            "  將基準點 119 放到正確位置 → [3, 8, 13, 25, 33, 41, 54, 84, 67, 119]\n",
            "    排序中：[41, 54, 84, 67]（基準點：41）\n",
            "    將基準點 41 放到正確位置 → [3, 8, 13, 25, 33, 41, 54, 84, 67, 119]\n",
            "      排序中：[54, 84, 67]（基準點：54）\n",
            "      將基準點 54 放到正確位置 → [3, 8, 13, 25, 33, 41, 54, 84, 67, 119]\n",
            "        排序中：[84, 67]（基準點：84）\n",
            "        將基準點 84 放到正確位置 → [3, 8, 13, 25, 33, 41, 54, 67, 84, 119]\n",
            "排序完成： [3, 8, 13, 25, 33, 41, 54, 67, 84, 119]\n"
          ]
        }
      ],
      "source": [
        "def quick_sort(array, start, end, depth=0):\n",
        "    indent = \"  \" * depth\n",
        "    if start >= end:\n",
        "        return\n",
        "\n",
        "    pivot_index = start\n",
        "    pivot = array[pivot_index]\n",
        "    left = start + 1\n",
        "    right = end\n",
        "\n",
        "    print(f\"{indent}排序中：{array[start:end+1]}（基準點：{pivot}）\")\n",
        "\n",
        "    # 排序過程\n",
        "    while left <= right:\n",
        "        while left <= right and array[left] <= pivot:\n",
        "            left += 1\n",
        "        while left <= right and array[right] > pivot:\n",
        "            right -= 1\n",
        "        if left < right:\n",
        "            array[left], array[right] = array[right], array[left]\n",
        "            print(f\"{indent}交換 {array[left]} 和 {array[right]} → {array}\")\n",
        "\n",
        "    # 放置 pivot 到正確位置\n",
        "    array[start], array[right] = array[right], array[start]\n",
        "    print(f\"{indent}將基準點 {pivot} 放到正確位置 → {array}\")\n",
        "\n",
        "    # 遞迴處理左右子陣列\n",
        "    quick_sort(array, start, right - 1, depth + 1)\n",
        "    quick_sort(array, right + 1, end, depth + 1)\n",
        "\n",
        "\n",
        "# 主程式\n",
        "data = [33, 67, 8, 13, 54, 119, 3, 84, 25, 41]\n",
        "print(\"原始資料：\", data)\n",
        "quick_sort(data, 0, len(data) - 1)\n",
        "print(\"排序完成：\", data)"
      ]
    }
  ]
}